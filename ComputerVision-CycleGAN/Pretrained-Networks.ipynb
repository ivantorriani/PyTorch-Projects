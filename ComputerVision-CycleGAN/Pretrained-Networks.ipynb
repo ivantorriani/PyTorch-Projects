{
 "cells": [
  {
   "cell_type": "code",
   "execution_count": 3,
   "id": "de624df7-e158-45aa-875c-ae66fd464644",
   "metadata": {},
   "outputs": [
    {
     "name": "stderr",
     "output_type": "stream",
     "text": [
      "C:\\Users\\sotiv\\anaconda3\\Lib\\site-packages\\torchvision\\models\\_utils.py:208: UserWarning: The parameter 'pretrained' is deprecated since 0.13 and may be removed in the future, please use 'weights' instead.\n",
      "  warnings.warn(\n",
      "C:\\Users\\sotiv\\anaconda3\\Lib\\site-packages\\torchvision\\models\\_utils.py:223: UserWarning: Arguments other than a weight enum or `None` for 'weights' are deprecated since 0.13 and may be removed in the future. The current behavior is equivalent to passing `weights=ResNet101_Weights.IMAGENET1K_V1`. You can also use `weights=ResNet101_Weights.DEFAULT` to get the most up-to-date weights.\n",
      "  warnings.warn(msg)\n"
     ]
    },
    {
     "data": {
      "text/plain": [
       "[('scorpion', 99.99866485595703),\n",
       " ('fiddler crab', 0.001051874365657568),\n",
       " ('rock crab, Cancer irroratus', 6.963589112274349e-05),\n",
       " ('centipede', 6.446228508139029e-05),\n",
       " ('crayfish, crawfish, crawdad, crawdaddy', 3.876638220390305e-05)]"
      ]
     },
     "execution_count": 3,
     "metadata": {},
     "output_type": "execute_result"
    }
   ],
   "source": [
    "from torchvision import models, transforms\n",
    "import torch\n",
    "from PIL import Image\n",
    "\n",
    "dir(models)\n",
    "\n",
    "alexnet = models.AlexNet() #specific architecture from torchvision\n",
    "\n",
    "resnet = models.resnet101(pretrained = True) #use weights instead of pretrained for relevancy :D\n",
    "\n",
    "resnet\n",
    "\n",
    "preprocess = transforms.Compose([ #transform the images into desirable formats!\n",
    "    transforms.Resize(256),\n",
    "    transforms.CenterCrop(224),\n",
    "    transforms.ToTensor(),\n",
    "    transforms.Normalize(\n",
    "        mean = [0.485, 0.456, 0.406],\n",
    "        std = [0.229, 0.224, 0.225]\n",
    "    )])\n",
    "\n",
    "\n",
    "img = Image.open(r\"C:\\Users\\sotiv\\data\\p1ch2\\scorpion.jpg\") #Open image from path USING R BRAH\n",
    "#img.show()\n",
    "\n",
    "img_t = preprocess(img)\n",
    "\n",
    "batch_t = torch.unsqueeze(img_t, 0)\n",
    "\n",
    "resnet.eval()\n",
    "\n",
    "out = resnet(batch_t)\n",
    "out\n",
    "\n",
    "with open(r'C:\\Users\\sotiv\\data\\p1ch2\\imagenet_classes.txt') as f: #each class will be scored! \n",
    "    labels = [line.strip() for line in f.readlines()] \n",
    "\n",
    "_, index = torch.max(out, 1)\n",
    "\n",
    "percentage = torch.nn.functional.softmax(out, dim=1)[0] * 100\n",
    "labels[index[0]], percentage[index[0]].item()\n",
    "\n",
    "_, indices = torch.sort(out, descending = True)\n",
    "[(labels[idx], percentage[idx].item()) for idx in indices[0][:5]] \n",
    "    "
   ]
  },
  {
   "cell_type": "code",
   "execution_count": null,
   "id": "2e8a5b4b-5301-4415-93d2-2eb56a8e68b9",
   "metadata": {},
   "outputs": [],
   "source": []
  }
 ],
 "metadata": {
  "kernelspec": {
   "display_name": "Python 3 (ipykernel)",
   "language": "python",
   "name": "python3"
  },
  "language_info": {
   "codemirror_mode": {
    "name": "ipython",
    "version": 3
   },
   "file_extension": ".py",
   "mimetype": "text/x-python",
   "name": "python",
   "nbconvert_exporter": "python",
   "pygments_lexer": "ipython3",
   "version": "3.12.4"
  }
 },
 "nbformat": 4,
 "nbformat_minor": 5
}
