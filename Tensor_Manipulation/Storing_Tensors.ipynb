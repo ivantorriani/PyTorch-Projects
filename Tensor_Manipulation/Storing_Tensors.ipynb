{
 "cells": [
  {
   "cell_type": "code",
   "execution_count": 17,
   "id": "b1df9d90-a931-4267-9b2f-767f584517d5",
   "metadata": {},
   "outputs": [],
   "source": [
    "import torch\n",
    "\n",
    "# Storing in Processors - - - - - - - - - - - - - - - - - - - - - - - - - - - - - - - - - - - -\n",
    "\n",
    "gpu_tensor = torch.ones((3,2), device = 'cuda') #Lets a tensor be stored in the GPU!\n",
    "\n",
    "cpu_tensor = gpu_tensor.to(device = 'cpu') #Sent back to CPU!\n",
    "\n",
    "a_tensor = torch.randn((2,3))\n",
    "\n",
    "b_tensor = a_tensor.to(device='cuda') #Lets a tensor not originally on CPU be stored on GPU!\n",
    "\n",
    "\n",
    "# Storing in NumPy - - - - - - - - - - - - - - - - - - - - - - - - - - - - - - - - - - -\n",
    "\n",
    "tensor = torch.randn(4,2)\n",
    "\n",
    "tensor_as_numpy = tensor.numpy() #Convert a torch tensor to a NumPy array \n",
    "\n",
    "tensor, tensor_as_numpy #They're the same thing! \n",
    "\n",
    "numpy_to_torch = torch.from_numpy(tensor_as_numpy) #Convert a NumPy array back into a torch tensor\n",
    "\n",
    "numpy_to_torch\n",
    "\n",
    "# Storing for Saving- - - - - - - - - - - - - - - - - - - - - - - - - - - - - - - - - - -\n",
    "\n",
    "tensor_for_storing = torch.ones(3,2)\n",
    "\n",
    "torch.save(tensor_for_storing, r'pathtofolder') #Saves tensor to location\n",
    "\n",
    "recovered_tensor = torch.load(r'pathtotensor') #Loads tensor from location\n",
    "\n",
    "#Note: If in any case you need a common format, use HDF5 with h5py. Sickeles!\n",
    "\n",
    "\n",
    "\n",
    "\n",
    "\n",
    "\n"
   ]
  },
  {
   "cell_type": "code",
   "execution_count": null,
   "id": "81be60c8-b5b1-42dd-9683-27bc4487b222",
   "metadata": {},
   "outputs": [],
   "source": []
  }
 ],
 "metadata": {
  "kernelspec": {
   "display_name": "Python 3 (ipykernel)",
   "language": "python",
   "name": "python3"
  },
  "language_info": {
   "codemirror_mode": {
    "name": "ipython",
    "version": 3
   },
   "file_extension": ".py",
   "mimetype": "text/x-python",
   "name": "python",
   "nbconvert_exporter": "python",
   "pygments_lexer": "ipython3",
   "version": "3.12.4"
  }
 },
 "nbformat": 4,
 "nbformat_minor": 5
}
