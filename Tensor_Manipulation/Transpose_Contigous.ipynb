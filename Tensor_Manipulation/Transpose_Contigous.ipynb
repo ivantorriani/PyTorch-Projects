{
 "cells": [
  {
   "cell_type": "code",
   "execution_count": 45,
   "id": "761f4235-05c3-479e-b99e-eb884214fdde",
   "metadata": {},
   "outputs": [
    {
     "data": {
      "text/plain": [
       "( 1\n",
       "  2\n",
       "  3\n",
       "  4\n",
       "  5\n",
       "  6\n",
       " [torch.storage.TypedStorage(dtype=torch.int64, device=cpu) of size 6],\n",
       "  1\n",
       "  3\n",
       "  5\n",
       "  2\n",
       "  4\n",
       "  6\n",
       " [torch.storage.TypedStorage(dtype=torch.int64, device=cpu) of size 6],\n",
       " True)"
      ]
     },
     "execution_count": 45,
     "metadata": {},
     "output_type": "execute_result"
    }
   ],
   "source": [
    "import torch\n",
    "\n",
    "# Tensor Transpose Properties - - - - - - - - - - - - - - - - - - - - - - - - - - - - - - - - - - - - - - - \n",
    "\n",
    "tensor = torch.tensor([[1,2],[3,4]])\n",
    "t_tensor = tensor.t()\n",
    "\n",
    "\n",
    "tensor.storage() #Notice that storage is row by row sequentially. \n",
    "\n",
    "tensor.storage(), t_tensor.storage() #Notice the storage is the same for transposes. It's more efficient that creating a completely new tensor!\n",
    "\n",
    "# Transposing Higher Dimensions- - - - - - - - - - - - - - - - - - - - - - - - - - - - - - - - - - - - - - - \n",
    "\n",
    "tensor = torch.randn(4,5,5)\n",
    "t_tensor = tensor.transpose(0,1) #Specify whicih dimensions you would like to transpose!\n",
    "\n",
    "t_tensor.shape\n",
    "\n",
    "# Contigous Tensors - - - - - - - - - - - - - - - - - - - - - - - - - - - - - - - - - - - - - - - \n",
    "\n",
    "tensor = torch.tensor([[1,2],[3,4],[5,6]])\n",
    "t_tensor = tensor.transpose(0,1)\n",
    "\n",
    "tensor.is_contiguous(), t_tensor.is_contiguous() #\n",
    "\n",
    "#Contiguous tensors have row entries that sequentially lign up with the storage entries!\n",
    "\n",
    "#Changing to Contiguous Tensors - - - - - - - - - - - - - - - - - - - - - - - - - - - - - - - - - - - - - - - \n",
    "\n",
    "t_tensor_contiguous = t_tensor.contiguous()\n",
    "\n",
    "tensor.storage(), t_tensor_contiguous.storage(), t_tensor_contiguous.is_contiguous()\n",
    "\n"
   ]
  },
  {
   "cell_type": "code",
   "execution_count": null,
   "id": "4fb413bf-3053-4a2c-8f1a-e6a8e5a5b028",
   "metadata": {},
   "outputs": [],
   "source": []
  }
 ],
 "metadata": {
  "kernelspec": {
   "display_name": "Python 3 (ipykernel)",
   "language": "python",
   "name": "python3"
  },
  "language_info": {
   "codemirror_mode": {
    "name": "ipython",
    "version": 3
   },
   "file_extension": ".py",
   "mimetype": "text/x-python",
   "name": "python",
   "nbconvert_exporter": "python",
   "pygments_lexer": "ipython3",
   "version": "3.12.4"
  }
 },
 "nbformat": 4,
 "nbformat_minor": 5
}
