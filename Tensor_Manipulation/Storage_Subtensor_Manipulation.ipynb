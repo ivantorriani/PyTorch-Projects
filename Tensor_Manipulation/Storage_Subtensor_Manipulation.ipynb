{
 "cells": [
  {
   "cell_type": "code",
   "execution_count": 37,
   "id": "7655930b-25f9-4405-9631-e8045269857a",
   "metadata": {},
   "outputs": [
    {
     "ename": "TypeError",
     "evalue": "'builtin_function_or_method' object is not subscriptable",
     "output_type": "error",
     "traceback": [
      "\u001b[1;31m---------------------------------------------------------------------------\u001b[0m",
      "\u001b[1;31mTypeError\u001b[0m                                 Traceback (most recent call last)",
      "Cell \u001b[1;32mIn[37], line 47\u001b[0m\n\u001b[0;32m     43\u001b[0m clone_point \u001b[38;5;241m=\u001b[39m sub_points\u001b[38;5;241m.\u001b[39mclone() \n\u001b[0;32m     45\u001b[0m clone_point \u001b[38;5;241m=\u001b[39m \u001b[38;5;241m10\u001b[39m\n\u001b[1;32m---> 47\u001b[0m man \u001b[38;5;241m=\u001b[39m points\u001b[38;5;241m.\u001b[39mstride[\u001b[38;5;241m0\u001b[39m]()\n\u001b[0;32m     49\u001b[0m man\n",
      "\u001b[1;31mTypeError\u001b[0m: 'builtin_function_or_method' object is not subscriptable"
     ]
    }
   ],
   "source": [
    "import torch\n",
    "\n",
    "# Transpose!!! - - - - - - - - - - - - - - - - - - - - - - - - - - - - - - - - - - - - - - - - - - - - - - - - - - - - - - - - - - - - - - - \n",
    "\n",
    "a = torch.ones(4,2)\n",
    "\n",
    "a_transpose = torch.transpose(a, 0, 1) #BRAH !!!!!!! It's just like Linear Algebra >_<\n",
    "\n",
    "a_transpose.shape\n",
    "\n",
    "#Storage  - - - - - - - - - - - - - - - - - - - - - - - - - - - - - - - - - - - - - - - - - - - - - - - - - - - - - - - - - - - - - - - \n",
    "\n",
    "points_for_storage = torch.tensor([[1,2],[3,4],[5,6]])\n",
    "\n",
    "points_for_storage.storage() #note that storage can be called on different objects!!\n",
    "\n",
    "points_for_storage, points_for_storage.storage()[0] #Index to certain data that is stored! Note that all storage is one dimensional. \n",
    "\n",
    "\n",
    "#Explore Storage with Size, Stride, and Offset - - - - - - - - - - - - - - - - - - - - - - - - - - - - - - - - - - - - - - - - - - - - - - - - - - - - - - - - - - - - - - - \n",
    "\n",
    "#Size: Refers to the size of the desired tensor\n",
    "#Offset: Refers to how many places that need to be skipped over to get to the first value in tensor (assuming we're holding a lot of tensor data!)\n",
    "#Stride: Refers to how many indexes until the next entry in the same dimension\n",
    "\n",
    "points = torch.tensor([[1,2,3],[3,4,5],[5,6,7]])\n",
    "\n",
    "test_point = points[2]\n",
    "\n",
    "test_point.storage_offset() \n",
    "\n",
    "points.stride() #How many steps need to be taken through storage in order to get the to the next value in the same dimension?\n",
    "\n",
    "\n",
    "\n",
    "\n",
    "#Now, we look at how to preserve and change data\n",
    "\n",
    "ex_points = points[2]\n",
    "\n",
    "sub_points = ex_points[0]\n",
    "\n",
    "clone_point = sub_points.clone() \n",
    "\n",
    "clone_point = 10\n",
    "\n",
    "\n",
    "#Cloning values in subtensors could come in handy if you want the system to remember something!\n",
    "\n",
    "# Other Tensor Storages - - - - - - - - - - - - - - - - - - - - - - - - - - - - - - - - - - - - - - - - - - - - - - - - - - - - - - - - - - - - - - - \n",
    "\n",
    "\n",
    "\n",
    "\n"
   ]
  },
  {
   "cell_type": "code",
   "execution_count": null,
   "id": "f5c69d2d-4a6b-4725-8386-2a4cee345890",
   "metadata": {},
   "outputs": [],
   "source": []
  }
 ],
 "metadata": {
  "kernelspec": {
   "display_name": "Python 3 (ipykernel)",
   "language": "python",
   "name": "python3"
  },
  "language_info": {
   "codemirror_mode": {
    "name": "ipython",
    "version": 3
   },
   "file_extension": ".py",
   "mimetype": "text/x-python",
   "name": "python",
   "nbconvert_exporter": "python",
   "pygments_lexer": "ipython3",
   "version": "3.12.4"
  }
 },
 "nbformat": 4,
 "nbformat_minor": 5
}
