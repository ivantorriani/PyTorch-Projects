{
 "cells": [
  {
   "cell_type": "code",
   "execution_count": 9,
   "id": "b32c2da6-bb70-43f8-956a-fd19d4230f1a",
   "metadata": {},
   "outputs": [
    {
     "name": "stdout",
     "output_type": "stream",
     "text": [
      "Reading DICOM (examining files): 1/99 files (1.0%99/99 files (100.0%)\n",
      "  Found 1 correct series.\n",
      "Reading DICOM (loading data): 91/99  (91.999/99  (100.0%)\n"
     ]
    },
    {
     "data": {
      "text/plain": [
       "torch.Size([1, 99, 512, 512])"
      ]
     },
     "execution_count": 9,
     "metadata": {},
     "output_type": "execute_result"
    }
   ],
   "source": [
    "# Imports - - - - - - - - - - - - - - - - - - - - - - - - - - - - - -\n",
    "import numpy as np\n",
    "import torch\n",
    "import os \n",
    "torch.set_printoptions(edgeitems=2, threshold=50)\n",
    "import imageio\n",
    "\n",
    "\n",
    "# Get Data - - - - - - - - - - - - - - - - - - - - - - - - - - - - - -\n",
    "\n",
    "data_path = (r\"C:\\Users\\sotiv\\data\\p1ch4\\volumetric-dicom\\Lung_Imaging\") #Same as before, using imageio,\n",
    "\n",
    "data_array = imageio.volread(data_path, 'DICOM') #Special for DICOM!\n",
    "\n",
    "data_array.shape\n",
    "\n",
    "#Arrange data\n",
    "\n",
    "data_torch = torch.from_numpy(data_array)\n",
    "\n",
    "data_torch = torch.unsqueeze(data_torch, 0) #I don't know what this means...\n",
    "\n",
    "\n"
   ]
  },
  {
   "cell_type": "code",
   "execution_count": null,
   "id": "e12010a5-82a1-492f-bbb6-13ff647c36aa",
   "metadata": {},
   "outputs": [],
   "source": []
  }
 ],
 "metadata": {
  "kernelspec": {
   "display_name": "Python 3 (ipykernel)",
   "language": "python",
   "name": "python3"
  },
  "language_info": {
   "codemirror_mode": {
    "name": "ipython",
    "version": 3
   },
   "file_extension": ".py",
   "mimetype": "text/x-python",
   "name": "python",
   "nbconvert_exporter": "python",
   "pygments_lexer": "ipython3",
   "version": "3.12.4"
  }
 },
 "nbformat": 4,
 "nbformat_minor": 5
}
