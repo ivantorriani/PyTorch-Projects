{
 "cells": [
  {
   "cell_type": "code",
   "execution_count": 27,
   "id": "cce7db79-11df-44ac-a166-eb19489bab00",
   "metadata": {},
   "outputs": [
    {
     "name": "stdout",
     "output_type": "stream",
     "text": [
      " 0 3394 impossible\n",
      " 1 4305 mr\n",
      " 2  813 bennet\n",
      " 3 3394 impossible\n",
      " 4 7078 when\n",
      " 5 3315 i\n",
      " 6  415 am\n",
      " 7 4436 not\n",
      " 8  239 acquainted\n",
      " 9 7148 with\n",
      "10 3215 him\n"
     ]
    },
    {
     "data": {
      "text/plain": [
       "tensor([[0., 0.,  ..., 0., 0.],\n",
       "        [0., 0.,  ..., 0., 0.],\n",
       "        ...,\n",
       "        [0., 0.,  ..., 0., 0.],\n",
       "        [0., 0.,  ..., 0., 0.]])"
      ]
     },
     "execution_count": 27,
     "metadata": {},
     "output_type": "execute_result"
    }
   ],
   "source": [
    "import numpy as np\n",
    "import torch\n",
    "torch.set_printoptions(edgeitems=2, threshold=50)\n",
    "# Get text and represent it as tensor - - - - - - - - - - - - - - - - - - - - - - - - - - - - - -\n",
    "with open(r'C:\\Users\\sotiv\\data\\p1ch4\\jane-austen\\1342-0.txt', encoding = 'utf8') as f: #Loading Text Data\n",
    "    text = f.read()\n",
    "\n",
    "lines = text.split('\\n') #split the data into individual lines\n",
    "line= lines[200] #get a specific line\n",
    "\n",
    "letter_t = torch.zeros( #Create a tensor that can represent data in the line\n",
    "    len(line),\n",
    "    128\n",
    ")\n",
    "\n",
    "# - - - - - - - - - - - - - - - - - - - - - - - - - - - - - -\n",
    "\n",
    "for i, letter in enumerate(line.lower().strip()): #Similiar to scatter, organizes onehot data in each row\n",
    "    letter_index = ord(letter) if ord(letter) < 128 else 0  # <1>\n",
    "    letter_t[i][letter_index] = 1\n",
    "\n",
    "def clean_words(input_str): #Similifies data by removing ,.:;  etc\n",
    "    punctuation = '.,;:\"!?”“_-'\n",
    "    word_list = input_str.lower().replace('\\n',' ').split()\n",
    "    word_list = [word.strip(punctuation) for word in word_list]\n",
    "    return word_list\n",
    "\n",
    "words_in_line = clean_words(line)\n",
    "\n",
    "# Onehots words using a dictionary- - - - - - - - - - - - - - - - - - - - - - - - - - - - - -\n",
    "word_list = sorted(set(clean_words(text)))\n",
    "\n",
    "word2index_dict = {word: i for (i, word) in enumerate(word_list)}\n",
    "\n",
    "word_t = torch.zeros(len(words_in_line), len(word2index_dict))\n",
    "\n",
    "for i, word in enumerate(words_in_line):\n",
    "    word_index = word2index_dict[word]\n",
    "    word_t[i][word_index] = 1\n",
    "    print('{:2} {:4} {}'.format(i, word_index, word))\n",
    "\n",
    "word_t #This is the onehotted data of all the words in the sentence we provided. Cool!\n",
    "\n",
    "# More efficient encoding methood- - - - - - - - - - - - - - - - - - - - - - - - - - - - - -\n",
    "\n"
   ]
  },
  {
   "cell_type": "code",
   "execution_count": null,
   "id": "8337b519-bdf7-47f1-80e1-36fbac57eb31",
   "metadata": {},
   "outputs": [],
   "source": []
  }
 ],
 "metadata": {
  "kernelspec": {
   "display_name": "Python 3 (ipykernel)",
   "language": "python",
   "name": "python3"
  },
  "language_info": {
   "codemirror_mode": {
    "name": "ipython",
    "version": 3
   },
   "file_extension": ".py",
   "mimetype": "text/x-python",
   "name": "python",
   "nbconvert_exporter": "python",
   "pygments_lexer": "ipython3",
   "version": "3.12.4"
  }
 },
 "nbformat": 4,
 "nbformat_minor": 5
}
