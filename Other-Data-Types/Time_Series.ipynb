{
 "cells": [
  {
   "cell_type": "code",
   "execution_count": 42,
   "id": "808c9f9a-7e1f-4eba-b5ab-740414d4290f",
   "metadata": {},
   "outputs": [
    {
     "data": {
      "text/plain": [
       "tensor([[[1., 1.,  ..., 0., 0.],\n",
       "         [0., 0.,  ..., 1., 1.],\n",
       "         [0., 0.,  ..., 0., 0.],\n",
       "         [0., 0.,  ..., 0., 0.]],\n",
       "\n",
       "        [[0., 0.,  ..., 1., 1.],\n",
       "         [1., 1.,  ..., 0., 0.],\n",
       "         [0., 0.,  ..., 0., 0.],\n",
       "         [0., 0.,  ..., 0., 0.]],\n",
       "\n",
       "        ...,\n",
       "\n",
       "        [[0., 0.,  ..., 1., 1.],\n",
       "         [1., 1.,  ..., 0., 0.],\n",
       "         [0., 0.,  ..., 0., 0.],\n",
       "         [0., 0.,  ..., 0., 0.]],\n",
       "\n",
       "        [[1., 1.,  ..., 1., 1.],\n",
       "         [0., 0.,  ..., 0., 0.],\n",
       "         [0., 0.,  ..., 0., 0.],\n",
       "         [0., 0.,  ..., 0., 0.]]])"
      ]
     },
     "execution_count": 42,
     "metadata": {},
     "output_type": "execute_result"
    }
   ],
   "source": [
    "# import numpy\n",
    "import torch\n",
    "torch.set_printoptions(edgeitems=2, threshold=50, linewidth=75)\n",
    "\n",
    "numpy_bikedata = numpy.loadtxt(\n",
    "    r\"C:\\Users\\sotiv\\data\\p1ch4\\bike-sharing-dataset\\hour-fixed.csv\",\n",
    "    dtype = numpy.float32,\n",
    "    delimiter = \",\",\n",
    "    skiprows = 1,\n",
    "    converters = {1: lambda x: float(x[8:10])}\n",
    ")\n",
    "\n",
    "# - - - - - - - - - - - - - - - - - - - - - - - -\n",
    "\n",
    "torch_bikedata = torch.from_numpy(numpy_bikedata)\n",
    "\n",
    "#This makes torch_bikedata a 3D tensor that makes intuitive sense when dealing with time series\n",
    "\n",
    "daily_bikedata = torch_bikedata.view(-1, 24, torch_bikedata.shape[1])  #* Why does this command add a extra dimension?\n",
    "\n",
    "#Note: View reshapes tensors. -1 lets the computer decide the first dimension based on the next two, which should be done according to what you think\n",
    "#is correct. Nice!\n",
    "\n",
    "daily_bikedata = daily_bikedata.transpose(1,2)\n",
    "daily_bikedata.shape\n",
    "\n",
    "# One-Hot encoding weather- - - - - - - - - - - - - - - - - - - - - - - - \n",
    "\n",
    "first_day = torch_bikedata[:24] .long() # Gives me data from day \n",
    "\n",
    "test_day = torch_bikedata[:24, :] #equivalent, just be worried about higher dimensions\n",
    "\n",
    "weather_onehot = torch.zeros(first_day.shape[0], 4)\n",
    "\n",
    "weather_onehot.scatter_(\n",
    "    dim = 1,\n",
    "    index = (first_day[:,9].unsqueeze(1) - 1),\n",
    "    value = (1.0)\n",
    ")\n",
    "\n",
    "torch.cat((torch_bikedata[:24], weather_onehot), 1)[:1]\n",
    "\n",
    "# One-Hot Encoding Batches : Make one-hot encoding for the daily_bikedata transposed tensor\n",
    "\n",
    "daily_weather_onehot = torch.zeros(daily_bikedata.shape[0], 4, daily_bikedata.shape[2])\n",
    "# = torch.zeros(720, 4, 24)\n",
    "\n",
    "daily_weather_onehot.scatter_(\n",
    "    dim = 1,\n",
    "    index = (daily_bikedata[:, 9, :].long().unsqueeze(1) - 1),\n",
    "    value = (1.0)\n",
    ")\n",
    "daily_weather_onehot\n",
    "\n",
    "# - - - - - - - - - - - - - - - - - - - - - - - - - - - - - -\n",
    "\n"
   ]
  },
  {
   "cell_type": "code",
   "execution_count": null,
   "id": "74bddc6f-d209-4832-9606-9f837e795265",
   "metadata": {},
   "outputs": [],
   "source": []
  }
 ],
 "metadata": {
  "kernelspec": {
   "display_name": "Python 3 (ipykernel)",
   "language": "python",
   "name": "python3"
  },
  "language_info": {
   "codemirror_mode": {
    "name": "ipython",
    "version": 3
   },
   "file_extension": ".py",
   "mimetype": "text/x-python",
   "name": "python",
   "nbconvert_exporter": "python",
   "pygments_lexer": "ipython3",
   "version": "3.12.4"
  }
 },
 "nbformat": 4,
 "nbformat_minor": 5
}
